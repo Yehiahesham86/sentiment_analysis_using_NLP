{
 "cells": [
  {
   "cell_type": "code",
   "execution_count": 2,
   "metadata": {},
   "outputs": [],
   "source": [
    "import tensorflow as tf\n",
    "from nltk.corpus import stopwords\n",
    "from nltk.tokenize import word_tokenize\n",
    "from transformers import AutoTokenizer \n",
    "import pickle\n",
    "from tkinter import *"
   ]
  },
  {
   "cell_type": "code",
   "execution_count": 3,
   "metadata": {},
   "outputs": [],
   "source": [
    "# loading\n",
    "with open('my_model/tokenizer.pickle', 'rb') as handle:\n",
    "    tokenizer = pickle.load(handle)"
   ]
  },
  {
   "cell_type": "code",
   "execution_count": 4,
   "metadata": {},
   "outputs": [],
   "source": [
    "model = tf.keras.models.load_model('my_model')"
   ]
  },
  {
   "cell_type": "code",
   "execution_count": 5,
   "metadata": {},
   "outputs": [],
   "source": [
    "def sentiment_check(text):\n",
    "    \n",
    "    stop_words = set(stopwords.words('english'))\n",
    "    max_length = 120\n",
    "    word_tokens = word_tokenize(text)\n",
    "    # converts the words in word_tokens to lower case and then checks whether \n",
    "    #they are present in stop_words or not\n",
    "    filtered_sentence = [w for w in word_tokens if not w.lower() in stop_words]\n",
    "    #with no lower case conversion\n",
    "    filtered_sentence = []\n",
    " \n",
    "    for w in word_tokens:\n",
    "        if w not in stop_words:\n",
    "            filtered_sentence.append(w)\n",
    "            \n",
    "    # Join the filtered words to form a clean text        \n",
    "    clean_text =[ ' '.join(filtered_sentence)]\n",
    "    testing_sentences = tokenizer.texts_to_sequences(clean_text)\n",
    "    testing_padded = tf.keras.preprocessing.sequence.pad_sequences(testing_sentences, maxlen=max_length,truncating=\"post\")\n",
    "    predict = model.predict(testing_padded,verbose=1)\n",
    "    predict_val=[]\n",
    "    for x in range(len(predict)):\n",
    "        if predict[x] >= 0.5:\n",
    "            predict_val.append(1)\n",
    "        else :   predict_val.append(0)\n",
    "\n",
    "    if predict_val[0] == 1 :\n",
    "        result=\"This sentence is Positive\"\n",
    "    else : result=\"This sentence is Negetive\"\n",
    "\n",
    "    return result"
   ]
  },
  {
   "cell_type": "code",
   "execution_count": 13,
   "metadata": {},
   "outputs": [
    {
     "name": "stdout",
     "output_type": "stream",
     "text": [
      "1/1 [==============================] - 0s 49ms/step\n",
      "1/1 [==============================] - 0s 49ms/step\n",
      "1/1 [==============================] - 0s 48ms/step\n"
     ]
    }
   ],
   "source": [
    "import tkinter as tk\n",
    "\n",
    "def on_button_click():\n",
    "    entered_text = text_box.get(\"1.0\", \"end-1c\")\n",
    "    result_label.config(text=f\"Text entered:\\n{sentiment_check(entered_text)}\")\n",
    "\n",
    "# Create the main window\n",
    "window = tk.Tk()\n",
    "window.title(\"Big Text Box and Result Label Example\")\n",
    "\n",
    "# Set the window size\n",
    "window.geometry(\"500x500\")\n",
    "\n",
    "# Create a label\n",
    "label = tk.Label(window, text=\"Enter text:\")\n",
    "label.pack()\n",
    "\n",
    "# Create a bigger text box and center it\n",
    "text_box = tk.Text(window, height=10, width=40)\n",
    "text_box.pack(side=tk.TOP, pady=10)\n",
    "\n",
    "# Create a button and center it\n",
    "button = tk.Button(window, text=\"Click me!\", command=on_button_click)\n",
    "button.pack(side=tk.TOP, pady=10)\n",
    "\n",
    "# Create a label to display the result\n",
    "result_label = tk.Label(window, text=\"\")\n",
    "result_label.pack(side=tk.TOP, pady=10)\n",
    "\n",
    "# Start the main event loop\n",
    "window.mainloop()"
   ]
  },
  {
   "cell_type": "code",
   "execution_count": 18,
   "metadata": {},
   "outputs": [
    {
     "name": "stdout",
     "output_type": "stream",
     "text": [
      "1/1 [==============================] - 0s 50ms/step\n"
     ]
    }
   ],
   "source": [
    "import tkinter as tk\n",
    "from tkinter import filedialog\n",
    "\n",
    "def open_file():\n",
    "    file_path = filedialog.askopenfilename(title=\"Select a File\")\n",
    "    if file_path:\n",
    "        result_label.config(text=f\"Opened file: {file_path}\")\n",
    "\n",
    "def close_window():\n",
    "    window.destroy()\n",
    "\n",
    "def upload_file():\n",
    "    file_path = filedialog.askopenfilename(title=\"Select a File to Upload\")\n",
    "    if file_path:\n",
    "        result_label.config(text=f\"Uploaded file: {file_path}\")\n",
    "\n",
    "def on_button_click():\n",
    "    entered_text = text_box.get(\"1.0\", \"end-1c\")\n",
    "    result_label.config(text=f\"Text entered:\\n{sentiment_check(entered_text)}\")\n",
    "\n",
    "# Create the main window\n",
    "window = tk.Tk()\n",
    "window.title(\"Dropdown and Centered Text Box Example\")\n",
    "window.geometry(\"500x500\")\n",
    "\n",
    "# Create a navigation bar frame\n",
    "nav_bar = tk.Frame(window, bg=\"lightgrey\", height=50)\n",
    "nav_bar.pack(side=tk.TOP, fill=tk.X)\n",
    "\n",
    "# Create a Menubutton for dropdown\n",
    "menu_btn = tk.Menubutton(nav_bar, text=\"Actions\", relief=tk.RAISED)\n",
    "menu_btn.pack(side=tk.LEFT, padx=10)\n",
    "\n",
    "# Create a Menu for the dropdown\n",
    "menu = tk.Menu(menu_btn, tearoff=False)\n",
    "menu_btn.config(menu=menu)\n",
    "\n",
    "# Add options to the dropdown\n",
    "menu.add_command(label=\"Open\", command=open_file)\n",
    "menu.add_command(label=\"Close\", command=close_window)\n",
    "menu.add_command(label=\"Upload\", command=upload_file)\n",
    "\n",
    "# Create a text entry field and center it\n",
    "text_box = tk.Text(window, height=10, width=40)\n",
    "text_box.pack(side=tk.TOP, pady=10)\n",
    "\n",
    "# Create a button and center it\n",
    "button = tk.Button(window, text=\"Click me!\", command=on_button_click)\n",
    "button.pack(side=tk.TOP, pady=10)\n",
    "\n",
    "# Create a label to display the result\n",
    "result_label = tk.Label(window, text=\"\")\n",
    "result_label.pack(pady=10)\n",
    "\n",
    "# Start the main event loop\n",
    "window.mainloop()"
   ]
  },
  {
   "cell_type": "code",
   "execution_count": null,
   "metadata": {},
   "outputs": [],
   "source": []
  }
 ],
 "metadata": {
  "kernelspec": {
   "display_name": "base",
   "language": "python",
   "name": "python3"
  },
  "language_info": {
   "codemirror_mode": {
    "name": "ipython",
    "version": 3
   },
   "file_extension": ".py",
   "mimetype": "text/x-python",
   "name": "python",
   "nbconvert_exporter": "python",
   "pygments_lexer": "ipython3",
   "version": "3.10.13"
  }
 },
 "nbformat": 4,
 "nbformat_minor": 2
}
