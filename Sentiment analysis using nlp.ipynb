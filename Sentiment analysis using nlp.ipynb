{
 "cells": [
  {
   "cell_type": "code",
   "execution_count": 1,
   "id": "58114797-a159-4cce-bd52-2dca8be53aea",
   "metadata": {
    "ExecuteTime": {
     "end_time": "2024-02-12T13:21:04.587112900Z",
     "start_time": "2024-02-12T13:21:00.353016100Z"
    }
   },
   "outputs": [],
   "source": [
    "import pandas as pd\n",
    "import  tensorflow as tf\n",
    "from imblearn.over_sampling import RandomOverSampler\n",
    "import numpy as np\n",
    "import matplotlib.pyplot as plt\n",
    "import matplotlib.image as mpimg\n",
    "from nltk.corpus import stopwords\n",
    "import nltk\n",
    "from nltk.tokenize import word_tokenize\n",
    "from sklearn.metrics import confusion_matrix, ConfusionMatrixDisplay\n",
    "import pickle"
   ]
  },
  {
   "cell_type": "code",
   "execution_count": 2,
   "id": "bcf0cc7af13d0ef6",
   "metadata": {
    "ExecuteTime": {
     "end_time": "2024-02-12T12:48:18.309916600Z",
     "start_time": "2024-02-12T12:48:17.971363500Z"
    },
    "collapsed": false,
    "jupyter": {
     "outputs_hidden": false
    }
   },
   "outputs": [],
   "source": [
    "train_df=pd.read_csv(\"Data/train.csv\", encoding='unicode_escape')"
   ]
  },
  {
   "cell_type": "code",
   "execution_count": 3,
   "id": "d502eff704f2f35",
   "metadata": {
    "ExecuteTime": {
     "end_time": "2024-02-12T12:53:30.974106400Z",
     "start_time": "2024-02-12T12:53:30.905300Z"
    },
    "collapsed": false,
    "jupyter": {
     "outputs_hidden": false
    }
   },
   "outputs": [],
   "source": [
    "test_df=pd.read_csv(\"Data/test.csv\", encoding='unicode_escape')"
   ]
  },
  {
   "cell_type": "code",
   "execution_count": 4,
   "id": "c98a8e6a10dd7dd5",
   "metadata": {
    "ExecuteTime": {
     "end_time": "2024-02-12T12:54:10.961117900Z",
     "start_time": "2024-02-12T12:54:10.914233700Z"
    },
    "collapsed": false,
    "jupyter": {
     "outputs_hidden": false
    }
   },
   "outputs": [
    {
     "data": {
      "text/plain": [
       "Index(['textID', 'text', 'sentiment', 'Time of Tweet', 'Age of User',\n",
       "       'Country', 'Population -2020', 'Land Area (Km²)', 'Density (P/Km²)'],\n",
       "      dtype='object')"
      ]
     },
     "execution_count": 4,
     "metadata": {},
     "output_type": "execute_result"
    }
   ],
   "source": [
    "test_df.columns"
   ]
  },
  {
   "cell_type": "code",
   "execution_count": 5,
   "id": "e1f55b681a6cf818",
   "metadata": {
    "ExecuteTime": {
     "end_time": "2024-02-12T12:48:18.425814200Z",
     "start_time": "2024-02-12T12:48:18.341175900Z"
    },
    "collapsed": false,
    "jupyter": {
     "outputs_hidden": false
    }
   },
   "outputs": [],
   "source": [
    "train_df.drop(columns=['textID','selected_text', 'Time of Tweet',\n",
    "                        'Age of User', 'Country', 'Population -2020', 'Land Area (Km²)',\n",
    "                        'Density (P/Km²)'],inplace=True)"
   ]
  },
  {
   "cell_type": "code",
   "execution_count": 6,
   "id": "c3508c1bc9b35c5a",
   "metadata": {
    "ExecuteTime": {
     "end_time": "2024-02-12T12:48:38.365529200Z",
     "start_time": "2024-02-12T12:48:38.317168900Z"
    },
    "collapsed": false,
    "jupyter": {
     "outputs_hidden": false
    }
   },
   "outputs": [],
   "source": [
    "train_df['rating'] = train_df.sentiment.apply(lambda x: 1 if x == \"positive\" else 0 )"
   ]
  },
  {
   "cell_type": "code",
   "execution_count": 7,
   "id": "c7be0568-70c2-49bb-8a47-a8e52bc8e2e0",
   "metadata": {},
   "outputs": [],
   "source": [
    "train_df=train_df[train_df.sentiment != \"neutral\"]"
   ]
  },
  {
   "cell_type": "code",
   "execution_count": 8,
   "id": "b32eefbb2db73b8e",
   "metadata": {
    "ExecuteTime": {
     "end_time": "2024-02-12T12:54:19.126392700Z",
     "start_time": "2024-02-12T12:54:19.066497600Z"
    },
    "collapsed": false,
    "jupyter": {
     "outputs_hidden": false
    }
   },
   "outputs": [],
   "source": [
    "test_df.drop(columns=['textID', 'Time of Tweet',\n",
    "                      'Age of User', 'Country', 'Population -2020', 'Land Area (Km²)',\n",
    "                      'Density (P/Km²)'], inplace=True)\n",
    "test_df['rating'] = test_df.sentiment.apply(lambda x: 1 if x == \"positive\"  else 0)"
   ]
  },
  {
   "cell_type": "code",
   "execution_count": 9,
   "id": "f0a598a5-f32a-404d-b978-0a2e87c1ee4e",
   "metadata": {},
   "outputs": [],
   "source": [
    "test_df=test_df[test_df.sentiment != \"neutral\"]"
   ]
  },
  {
   "cell_type": "code",
   "execution_count": 10,
   "id": "9f2b70506fba7737",
   "metadata": {
    "ExecuteTime": {
     "end_time": "2024-02-12T14:04:07.846894500Z",
     "start_time": "2024-02-12T14:04:07.815644900Z"
    },
    "collapsed": false,
    "jupyter": {
     "outputs_hidden": false
    }
   },
   "outputs": [],
   "source": [
    "train_df[\"text\"]=train_df[\"text\"].astype('string')\n",
    "train_df[\"sentiment\"]=train_df[\"sentiment\"].astype('string')\n",
    "test_df[\"text\"]=test_df[\"text\"].astype('string')\n",
    "test_df[\"sentiment\"]=test_df[\"sentiment\"].astype('string')"
   ]
  },
  {
   "cell_type": "code",
   "execution_count": 11,
   "id": "6f5c7953ece1836b",
   "metadata": {
    "ExecuteTime": {
     "end_time": "2024-02-12T14:04:42.745266900Z",
     "start_time": "2024-02-12T14:04:42.676253300Z"
    },
    "collapsed": false,
    "jupyter": {
     "outputs_hidden": false
    }
   },
   "outputs": [],
   "source": [
    "train_df.dropna(inplace=True)\n",
    "test_df.dropna(inplace=True)"
   ]
  },
  {
   "cell_type": "code",
   "execution_count": 12,
   "id": "763c4ccd-1f2d-4752-b13a-620651ee9930",
   "metadata": {},
   "outputs": [
    {
     "data": {
      "text/html": [
       "<div>\n",
       "<style scoped>\n",
       "    .dataframe tbody tr th:only-of-type {\n",
       "        vertical-align: middle;\n",
       "    }\n",
       "\n",
       "    .dataframe tbody tr th {\n",
       "        vertical-align: top;\n",
       "    }\n",
       "\n",
       "    .dataframe thead th {\n",
       "        text-align: right;\n",
       "    }\n",
       "</style>\n",
       "<table border=\"1\" class=\"dataframe\">\n",
       "  <thead>\n",
       "    <tr style=\"text-align: right;\">\n",
       "      <th></th>\n",
       "      <th>text</th>\n",
       "      <th>sentiment</th>\n",
       "      <th>rating</th>\n",
       "    </tr>\n",
       "  </thead>\n",
       "  <tbody>\n",
       "    <tr>\n",
       "      <th>1</th>\n",
       "      <td>Sooo SAD I will miss you here in San Diego!!!</td>\n",
       "      <td>negative</td>\n",
       "      <td>0</td>\n",
       "    </tr>\n",
       "    <tr>\n",
       "      <th>2</th>\n",
       "      <td>my boss is bullying me...</td>\n",
       "      <td>negative</td>\n",
       "      <td>0</td>\n",
       "    </tr>\n",
       "    <tr>\n",
       "      <th>3</th>\n",
       "      <td>what interview! leave me alone</td>\n",
       "      <td>negative</td>\n",
       "      <td>0</td>\n",
       "    </tr>\n",
       "    <tr>\n",
       "      <th>4</th>\n",
       "      <td>Sons of ****, why couldn`t they put them on t...</td>\n",
       "      <td>negative</td>\n",
       "      <td>0</td>\n",
       "    </tr>\n",
       "    <tr>\n",
       "      <th>6</th>\n",
       "      <td>2am feedings for the baby are fun when he is a...</td>\n",
       "      <td>positive</td>\n",
       "      <td>1</td>\n",
       "    </tr>\n",
       "    <tr>\n",
       "      <th>...</th>\n",
       "      <td>...</td>\n",
       "      <td>...</td>\n",
       "      <td>...</td>\n",
       "    </tr>\n",
       "    <tr>\n",
       "      <th>27475</th>\n",
       "      <td>enjoy ur night</td>\n",
       "      <td>positive</td>\n",
       "      <td>1</td>\n",
       "    </tr>\n",
       "    <tr>\n",
       "      <th>27476</th>\n",
       "      <td>wish we could come see u on Denver  husband l...</td>\n",
       "      <td>negative</td>\n",
       "      <td>0</td>\n",
       "    </tr>\n",
       "    <tr>\n",
       "      <th>27477</th>\n",
       "      <td>I`ve wondered about rake to.  The client has ...</td>\n",
       "      <td>negative</td>\n",
       "      <td>0</td>\n",
       "    </tr>\n",
       "    <tr>\n",
       "      <th>27478</th>\n",
       "      <td>Yay good for both of you. Enjoy the break - y...</td>\n",
       "      <td>positive</td>\n",
       "      <td>1</td>\n",
       "    </tr>\n",
       "    <tr>\n",
       "      <th>27479</th>\n",
       "      <td>But it was worth it  ****.</td>\n",
       "      <td>positive</td>\n",
       "      <td>1</td>\n",
       "    </tr>\n",
       "  </tbody>\n",
       "</table>\n",
       "<p>16363 rows × 3 columns</p>\n",
       "</div>"
      ],
      "text/plain": [
       "                                                    text sentiment  rating\n",
       "1          Sooo SAD I will miss you here in San Diego!!!  negative       0\n",
       "2                              my boss is bullying me...  negative       0\n",
       "3                         what interview! leave me alone  negative       0\n",
       "4       Sons of ****, why couldn`t they put them on t...  negative       0\n",
       "6      2am feedings for the baby are fun when he is a...  positive       1\n",
       "...                                                  ...       ...     ...\n",
       "27475                                     enjoy ur night  positive       1\n",
       "27476   wish we could come see u on Denver  husband l...  negative       0\n",
       "27477   I`ve wondered about rake to.  The client has ...  negative       0\n",
       "27478   Yay good for both of you. Enjoy the break - y...  positive       1\n",
       "27479                         But it was worth it  ****.  positive       1\n",
       "\n",
       "[16363 rows x 3 columns]"
      ]
     },
     "execution_count": 12,
     "metadata": {},
     "output_type": "execute_result"
    }
   ],
   "source": [
    "train_df"
   ]
  },
  {
   "cell_type": "code",
   "execution_count": 13,
   "id": "7af7b3a8febe61a7",
   "metadata": {
    "ExecuteTime": {
     "end_time": "2024-02-12T13:21:08.628959800Z",
     "start_time": "2024-02-12T13:21:08.597710100Z"
    },
    "collapsed": false,
    "jupyter": {
     "outputs_hidden": false
    }
   },
   "outputs": [],
   "source": [
    "ros=RandomOverSampler(random_state=42)"
   ]
  },
  {
   "cell_type": "code",
   "execution_count": 14,
   "id": "832203d6b910f2e6",
   "metadata": {
    "ExecuteTime": {
     "end_time": "2024-02-12T14:10:31.946543900Z",
     "start_time": "2024-02-12T14:10:31.884042200Z"
    },
    "collapsed": false,
    "jupyter": {
     "outputs_hidden": false
    }
   },
   "outputs": [],
   "source": [
    "x_train, y_train = ros.fit_resample(train_df.drop(columns=[\"sentiment\",\"rating\"]), train_df.rating)\n",
    "x_test=test_df.drop(columns=[\"sentiment\",\"rating\"])\n",
    "y_test=test_df.rating"
   ]
  },
  {
   "cell_type": "code",
   "execution_count": 15,
   "id": "554f1543-f6c3-40a7-bc57-d9339effc057",
   "metadata": {},
   "outputs": [],
   "source": [
    "stop_words = stopwords.words('english')\n",
    "x_train['text'] = x_train['text'].apply(lambda x: ' '.join([word for word in x.split() if word not in (stop_words)]))\n",
    "x_test['text'] = x_test['text'].apply(lambda x: ' '.join([word for word in x.split() if word not in (stop_words)]))"
   ]
  },
  {
   "cell_type": "code",
   "execution_count": 16,
   "id": "65d2615c-abaa-4d29-b391-565bf9ba15e5",
   "metadata": {},
   "outputs": [
    {
     "data": {
      "text/html": [
       "<div>\n",
       "<style scoped>\n",
       "    .dataframe tbody tr th:only-of-type {\n",
       "        vertical-align: middle;\n",
       "    }\n",
       "\n",
       "    .dataframe tbody tr th {\n",
       "        vertical-align: top;\n",
       "    }\n",
       "\n",
       "    .dataframe thead th {\n",
       "        text-align: right;\n",
       "    }\n",
       "</style>\n",
       "<table border=\"1\" class=\"dataframe\">\n",
       "  <thead>\n",
       "    <tr style=\"text-align: right;\">\n",
       "      <th></th>\n",
       "      <th>text</th>\n",
       "    </tr>\n",
       "  </thead>\n",
       "  <tbody>\n",
       "    <tr>\n",
       "      <th>0</th>\n",
       "      <td>Sooo SAD I miss San Diego!!!</td>\n",
       "    </tr>\n",
       "    <tr>\n",
       "      <th>1</th>\n",
       "      <td>boss bullying me...</td>\n",
       "    </tr>\n",
       "    <tr>\n",
       "      <th>2</th>\n",
       "      <td>interview! leave alone</td>\n",
       "    </tr>\n",
       "    <tr>\n",
       "      <th>3</th>\n",
       "      <td>Sons ****, couldn`t put releases already bought</td>\n",
       "    </tr>\n",
       "    <tr>\n",
       "      <th>4</th>\n",
       "      <td>2am feedings baby fun smiles coos</td>\n",
       "    </tr>\n",
       "    <tr>\n",
       "      <th>...</th>\n",
       "      <td>...</td>\n",
       "    </tr>\n",
       "    <tr>\n",
       "      <th>17159</th>\n",
       "      <td>I miss much I wish I enough money</td>\n",
       "    </tr>\n",
       "    <tr>\n",
       "      <th>17160</th>\n",
       "      <td>real stressed</td>\n",
       "    </tr>\n",
       "    <tr>\n",
       "      <th>17161</th>\n",
       "      <td>dissapointment hhaha</td>\n",
       "    </tr>\n",
       "    <tr>\n",
       "      <th>17162</th>\n",
       "      <td>that`s weird seeing MySpace page without there...</td>\n",
       "    </tr>\n",
       "    <tr>\n",
       "      <th>17163</th>\n",
       "      <td>Never chance sleeping midnight mind tired......</td>\n",
       "    </tr>\n",
       "  </tbody>\n",
       "</table>\n",
       "<p>17164 rows × 1 columns</p>\n",
       "</div>"
      ],
      "text/plain": [
       "                                                    text\n",
       "0                           Sooo SAD I miss San Diego!!!\n",
       "1                                    boss bullying me...\n",
       "2                                 interview! leave alone\n",
       "3        Sons ****, couldn`t put releases already bought\n",
       "4                      2am feedings baby fun smiles coos\n",
       "...                                                  ...\n",
       "17159                  I miss much I wish I enough money\n",
       "17160                                      real stressed\n",
       "17161                               dissapointment hhaha\n",
       "17162  that`s weird seeing MySpace page without there...\n",
       "17163    Never chance sleeping midnight mind tired......\n",
       "\n",
       "[17164 rows x 1 columns]"
      ]
     },
     "execution_count": 16,
     "metadata": {},
     "output_type": "execute_result"
    }
   ],
   "source": [
    "x_train"
   ]
  },
  {
   "cell_type": "code",
   "execution_count": 17,
   "id": "dcc2eb6ede32c918",
   "metadata": {
    "ExecuteTime": {
     "end_time": "2024-02-12T14:27:39.909903600Z",
     "start_time": "2024-02-12T14:27:39.847391400Z"
    },
    "collapsed": false,
    "jupyter": {
     "outputs_hidden": false
    }
   },
   "outputs": [],
   "source": [
    "vocab_size = 40000\n",
    "embedding_dim = 16\n",
    "max_length = 120\n",
    "trunc_type = 'post'\n",
    "oov_tok = '<OOV>'\n",
    "padding_type = 'post'"
   ]
  },
  {
   "cell_type": "code",
   "execution_count": 18,
   "id": "a238bbcd5309490d",
   "metadata": {
    "ExecuteTime": {
     "end_time": "2024-02-12T14:27:41.583121700Z",
     "start_time": "2024-02-12T14:27:39.878652400Z"
    },
    "collapsed": false,
    "jupyter": {
     "outputs_hidden": false
    }
   },
   "outputs": [],
   "source": [
    "tokenizer = tf.keras.preprocessing.text.Tokenizer(num_words=vocab_size, oov_token=oov_tok)\n",
    "tokenizer.fit_on_texts(x_train.text)\n",
    "word_index = tokenizer.word_index"
   ]
  },
  {
   "cell_type": "code",
   "execution_count": 19,
   "id": "d072b8d1e1013da0",
   "metadata": {
    "ExecuteTime": {
     "end_time": "2024-02-12T14:27:43.487833500Z",
     "start_time": "2024-02-12T14:27:41.698974600Z"
    },
    "collapsed": false,
    "jupyter": {
     "outputs_hidden": false
    }
   },
   "outputs": [],
   "source": [
    "sequences = tokenizer.texts_to_sequences(x_train.text)\n",
    "padded = tf.keras.preprocessing.sequence.pad_sequences(sequences, maxlen=max_length, truncating=\"post\")\n",
    "testing_sentences = tokenizer.texts_to_sequences(x_test.text)\n",
    "testing_padded = tf.keras.preprocessing.sequence.pad_sequences(testing_sentences, maxlen=max_length,truncating=\"post\")"
   ]
  },
  {
   "cell_type": "code",
   "execution_count": 20,
   "id": "b448a7066628f7f8",
   "metadata": {
    "ExecuteTime": {
     "end_time": "2024-02-12T14:39:25.053629300Z",
     "start_time": "2024-02-12T14:39:24.699954900Z"
    },
    "collapsed": false,
    "jupyter": {
     "outputs_hidden": false
    }
   },
   "outputs": [
    {
     "name": "stdout",
     "output_type": "stream",
     "text": [
      "Model: \"sequential\"\n",
      "_________________________________________________________________\n",
      " Layer (type)                Output Shape              Param #   \n",
      "=================================================================\n",
      " embedding (Embedding)       (None, 120, 16)           640000    \n",
      "                                                                 \n",
      " global_average_pooling1d (G  (None, 16)               0         \n",
      " lobalAveragePooling1D)                                          \n",
      "                                                                 \n",
      " dense (Dense)               (None, 16)                272       \n",
      "                                                                 \n",
      " dropout (Dropout)           (None, 16)                0         \n",
      "                                                                 \n",
      " dense_1 (Dense)             (None, 1)                 17        \n",
      "                                                                 \n",
      "=================================================================\n",
      "Total params: 640,289\n",
      "Trainable params: 640,289\n",
      "Non-trainable params: 0\n",
      "_________________________________________________________________\n"
     ]
    }
   ],
   "source": [
    "model = tf.keras.Sequential([\n",
    "    tf.keras.layers.Embedding(vocab_size, embedding_dim, input_length=max_length),\n",
    "    tf.keras.layers.GlobalAveragePooling1D(),\n",
    "    tf.keras.layers.Dense(16, activation='relu'),\n",
    "    tf.keras.layers.Dropout(0.5),\n",
    "    tf.keras.layers.Dense(1, activation='sigmoid')\n",
    "])\n",
    "\n",
    "# Print the model summary\n",
    "model.summary()"
   ]
  },
  {
   "cell_type": "code",
   "execution_count": 21,
   "id": "941c09255dad2f3a",
   "metadata": {
    "ExecuteTime": {
     "end_time": "2024-02-12T14:39:25.984512700Z",
     "start_time": "2024-02-12T14:39:25.912979400Z"
    },
    "collapsed": false,
    "jupyter": {
     "outputs_hidden": false
    }
   },
   "outputs": [],
   "source": [
    "model.compile(loss=tf.keras.losses.binary_crossentropy,optimizer=tf.keras.optimizers.Adam(),metrics=['accuracy'])"
   ]
  },
  {
   "cell_type": "code",
   "execution_count": 22,
   "id": "808ff6fdfccb1f71",
   "metadata": {
    "ExecuteTime": {
     "end_time": "2024-02-12T14:39:28.112302100Z",
     "start_time": "2024-02-12T14:39:28.058905500Z"
    },
    "collapsed": false,
    "jupyter": {
     "outputs_hidden": false
    }
   },
   "outputs": [],
   "source": [
    "training_labels_final = np.array(y_train)\n",
    "testing_labels_final = np.array(y_test)"
   ]
  },
  {
   "cell_type": "code",
   "execution_count": 23,
   "id": "34672465e7e30b83",
   "metadata": {
    "ExecuteTime": {
     "end_time": "2024-02-12T14:45:23.830794Z",
     "start_time": "2024-02-12T14:39:36.089133900Z"
    },
    "collapsed": false,
    "jupyter": {
     "outputs_hidden": false
    }
   },
   "outputs": [
    {
     "name": "stdout",
     "output_type": "stream",
     "text": [
      "Epoch 1/25\n",
      "537/537 [==============================] - 10s 14ms/step - loss: 0.6849 - accuracy: 0.5673\n",
      "Epoch 2/25\n",
      "537/537 [==============================] - 7s 13ms/step - loss: 0.5580 - accuracy: 0.7692\n",
      "Epoch 3/25\n",
      "537/537 [==============================] - 11s 20ms/step - loss: 0.4035 - accuracy: 0.8562\n",
      "Epoch 4/25\n",
      "537/537 [==============================] - 9s 16ms/step - loss: 0.3214 - accuracy: 0.8885\n",
      "Epoch 5/25\n",
      "537/537 [==============================] - 9s 17ms/step - loss: 0.2755 - accuracy: 0.9122\n",
      "Epoch 6/25\n",
      "537/537 [==============================] - 10s 18ms/step - loss: 0.2386 - accuracy: 0.9242\n",
      "Epoch 7/25\n",
      "537/537 [==============================] - 9s 17ms/step - loss: 0.2152 - accuracy: 0.9337\n",
      "Epoch 8/25\n",
      "537/537 [==============================] - 9s 18ms/step - loss: 0.1972 - accuracy: 0.9381\n",
      "Epoch 9/25\n",
      "537/537 [==============================] - 9s 17ms/step - loss: 0.1779 - accuracy: 0.9448\n",
      "Epoch 10/25\n",
      "537/537 [==============================] - 9s 17ms/step - loss: 0.1646 - accuracy: 0.9521\n",
      "Epoch 11/25\n",
      "537/537 [==============================] - 9s 17ms/step - loss: 0.1489 - accuracy: 0.9563\n",
      "Epoch 12/25\n",
      "537/537 [==============================] - 7s 14ms/step - loss: 0.1408 - accuracy: 0.9586\n",
      "Epoch 13/25\n",
      "537/537 [==============================] - 11s 20ms/step - loss: 0.1299 - accuracy: 0.9628\n",
      "Epoch 14/25\n",
      "537/537 [==============================] - 9s 16ms/step - loss: 0.1247 - accuracy: 0.9642\n",
      "Epoch 15/25\n",
      "537/537 [==============================] - 7s 13ms/step - loss: 0.1146 - accuracy: 0.9663\n",
      "Epoch 16/25\n",
      "537/537 [==============================] - 7s 13ms/step - loss: 0.1049 - accuracy: 0.9700\n",
      "Epoch 17/25\n",
      "537/537 [==============================] - 8s 14ms/step - loss: 0.0994 - accuracy: 0.9716\n",
      "Epoch 18/25\n",
      "537/537 [==============================] - 7s 13ms/step - loss: 0.0955 - accuracy: 0.9732\n",
      "Epoch 19/25\n",
      "537/537 [==============================] - 7s 14ms/step - loss: 0.0880 - accuracy: 0.9748\n",
      "Epoch 20/25\n",
      "537/537 [==============================] - 7s 13ms/step - loss: 0.0854 - accuracy: 0.9761\n",
      "Epoch 21/25\n",
      "537/537 [==============================] - 7s 13ms/step - loss: 0.0813 - accuracy: 0.9772\n",
      "Epoch 22/25\n",
      "537/537 [==============================] - 7s 13ms/step - loss: 0.0743 - accuracy: 0.9809\n",
      "Epoch 23/25\n",
      "537/537 [==============================] - 7s 13ms/step - loss: 0.0714 - accuracy: 0.9810\n",
      "Epoch 24/25\n",
      "537/537 [==============================] - 7s 13ms/step - loss: 0.0705 - accuracy: 0.9802\n",
      "Epoch 25/25\n",
      "537/537 [==============================] - 7s 13ms/step - loss: 0.0684 - accuracy: 0.9823\n"
     ]
    }
   ],
   "source": [
    "num_epochs = 25\n",
    "history = model.fit(padded, training_labels_final, epochs=num_epochs)"
   ]
  },
  {
   "cell_type": "code",
   "execution_count": 24,
   "id": "ddff06e4-dc08-4399-900a-23ed3bb84519",
   "metadata": {},
   "outputs": [
    {
     "name": "stdout",
     "output_type": "stream",
     "text": [
      "66/66 [==============================] - 1s 4ms/step\n"
     ]
    }
   ],
   "source": [
    "predict = model.predict(testing_padded,verbose=1)"
   ]
  },
  {
   "cell_type": "code",
   "execution_count": null,
   "id": "be29d368-15a0-46f5-8d64-d04542403cc8",
   "metadata": {},
   "outputs": [],
   "source": [
    "predict_val=[]\n",
    "for x in range(len(predict)):\n",
    "    if predict[x] >= 0.5:\n",
    "        predict_val.append(1)\n",
    "    else :   predict_val.append(0)  "
   ]
  },
  {
   "cell_type": "code",
   "execution_count": null,
   "id": "e48e10a4-35de-491a-9233-0314433a29e5",
   "metadata": {},
   "outputs": [],
   "source": [
    "conf_mat = confusion_matrix(y_test, predict_val)\n",
    "displ = ConfusionMatrixDisplay(confusion_matrix=conf_mat)\n",
    "displ.plot()"
   ]
  },
  {
   "cell_type": "code",
   "execution_count": 26,
   "id": "2c86ace8698d506",
   "metadata": {
    "collapsed": false,
    "jupyter": {
     "outputs_hidden": false
    }
   },
   "outputs": [
    {
     "name": "stdout",
     "output_type": "stream",
     "text": [
      "INFO:tensorflow:Assets written to: my_model\\assets\n"
     ]
    }
   ],
   "source": [
    "model.save('my_model')"
   ]
  },
  {
   "cell_type": "code",
   "execution_count": null,
   "id": "5f1a6f96-f302-4c95-b39e-ec639c12f38f",
   "metadata": {},
   "outputs": [],
   "source": [
    "def sentiment_check(text):\n",
    "    \n",
    "    model = tf.keras.models.load_model('my_model')\n",
    "    stop_words = set(stopwords.words('english'))\n",
    " \n",
    "    word_tokens = word_tokenize(text)\n",
    "    # converts the words in word_tokens to lower case and then checks whether \n",
    "    #they are present in stop_words or not\n",
    "    filtered_sentence = [w for w in word_tokens if not w.lower() in stop_words]\n",
    "    #with no lower case conversion\n",
    "    filtered_sentence = []\n",
    " \n",
    "    for w in word_tokens:\n",
    "        if w not in stop_words:\n",
    "            filtered_sentence.append(w)\n",
    "            \n",
    "    # Join the filtered words to form a clean text        \n",
    "    clean_text =[ ' '.join(filtered_sentence)]\n",
    "    testing_sentences = tokenizer.texts_to_sequences(clean_text)\n",
    "    testing_padded = tf.keras.preprocessing.sequence.pad_sequences(testing_sentences, maxlen=max_length,truncating=\"post\")\n",
    "    predict = model.predict(testing_padded,verbose=1)\n",
    "    predict_val=[]\n",
    "    for x in range(len(predict)):\n",
    "        if predict[x] >= 0.5:\n",
    "            predict_val.append(1)\n",
    "        else :   predict_val.append(0)\n",
    "\n",
    "    if predict_val[0] == 1 :\n",
    "        result=\"This sentence is Positive\"\n",
    "    else : result=\"This sentence is Negetive\"\n",
    "\n",
    "    return print(result)"
   ]
  },
  {
   "cell_type": "code",
   "execution_count": null,
   "id": "b9956299-bbad-487b-9507-120fd7f4eeba",
   "metadata": {},
   "outputs": [],
   "source": [
    "sentiment_check(\"\"\"A terrible movie as everyone has said. What made me laugh was the cameo appearance \n",
    "by Scott McNealy, giving an award to one of the murdered programmers in front of a wall of SUN logos. \n",
    "McNealy is the CEO of SUN Microsystem, a company that practically defines itself by its hatred of Microsoft. \n",
    "They have been instrumental in filing antitrust complaints against Microsoft. \n",
    "So, were they silly enough to think this bad movie would add fuel to that fire?<br /><br />There's no public record I see of SUN's involvement, \n",
    "but clearly the makers of this movie know Scott McNealy. An interesting mystery.\"\"\")"
   ]
  },
  {
   "cell_type": "code",
   "execution_count": null,
   "id": "3cd5361e-f9fc-4555-874f-3efac21aeed3",
   "metadata": {},
   "outputs": [],
   "source": [
    "sentiment_check(\"\"\"Finally watched this shocking movie last night, and what a disturbing mindf**ker it is, \n",
    "and unbelievably bloody and some unforgettable scenes, and a total assault on the senses. \n",
    "Looks like a movie from the minds of Lynch (specifically ERASERHEAD), Buttgereit, and even a little of \"Begotten\". \n",
    "What this guy does to his pregnant sister is beyond belief, but then again, did it \n",
    "really happen or is it his brain's left and right sides doing battle. \n",
    "That's the main theme of this piece of art, to draw a fine line between fantasy and reality, \n",
    "and what would happen if the right side of the brain that dreams and fantasizes overtakes the reasoning and logical left side. \n",
    "And the music in this movie is unbelievable, a kind of electronic score that is absolutely perfect. \n",
    "Even though this movie is totally shocking and pretty disgusting in some of the most extreme scenes (including hard core sex) \n",
    "you will ever see in any movie, \n",
    "I viewed it as a work of art, and loved it. And that music still amazes me, I have to try and find the soundtrack if is available. \n",
    "Watching \"Subconscious Cruelty\" is a real event, and not something the viewer will easily forget. And a note to gorehounds, \n",
    "this is a must-have.<br /><br />Warning... Be careful buying this movie, \n",
    "because some prints have fogging on the graphic sex scenes and extreme gore, \n",
    "especially the copies from the Japanese release.\"\"\")"
   ]
  },
  {
   "cell_type": "code",
   "execution_count": null,
   "id": "c4b24126-0441-4b3e-9863-1123d33d6c79",
   "metadata": {},
   "outputs": [],
   "source": [
    "sentiment_check(\"\"\"I saw this film via one of the actors' agents, and it surely conforms with a great deal that comes out of Sth. \n",
    "Australia in terms of the overall *tone,* which is rightly dark and moody.<br /><br />I thought the little boy in the film was excellent. \n",
    "Mostly kid actors are *hammed up* and embarrassing but not in this case. He was really very good. In terms of the \n",
    "*surrealism* thingy mentioned by jingo, well, I just think this film is plain 'weird.' It's a real weirdo film, with weirdo locations, \n",
    "storyline, weird stuff going on the whole time. But 'good' weird as opposed to 'bad'.<br /><br />Its hard to think of other movies like it, \n",
    "but its not at all like CARS ATE Paris, maybe more like a REPULSION, but actually I think more like a Hammer movie from the 60's. \n",
    "Its certainly has an interesting mind working behind it.<br /><br />JINGO, My question is also about the title. Why Modern Love?? Anyone? Also, \n",
    "jingo, what did you mean by \"god Forsaken\" when you were talking about Australia, hmmm? Just curious\"\"\")"
   ]
  },
  {
   "cell_type": "code",
   "execution_count": null,
   "id": "f2b5499c-f1ba-4297-9fca-cea655f02cf7",
   "metadata": {},
   "outputs": [],
   "source": [
    "sentiment_check(\"\"\"A feminist tract in which if you the viewer believe that: i) wild animals are seldom tamed by singing but instead attack, \n",
    "kill and eat (the line that grizzlies never attack unless provoked was a hoot - unless \"provoked\" means that it sees flesh); ii) \n",
    "homosexuality is both immoral per se -- and its acceptance almost always associated throughout history with signs of a society's \n",
    "dissolution and decay iii) few women are bisexual (in this one, virtually every woman is presented as having no preference for men or women) \n",
    "iv) divorce is far worse than infidelity v) land is there for human beings to use, develop and enjoy vi) \n",
    "it is as incumbent upon a mother of an adult son to keep in touch as it is upon the son vii) a mother raising her son alone is an \n",
    "unfortunate and real tragedy for the child viii) the idolization of a parent for worthwhile ideals is a good and healthy thing ix) \n",
    "adults continue to bear a responsibility for their sexual behavior, no matter their age, and the duty to engage in this most \n",
    "intimate and giving of acts only within the most intimate and openly sacrificial of relationships: marriage -- believe me,\n",
    "you are NOT going to like this film! Essentially it's a Howard Stern sort of fellow who is brought down by a Jane Fonda sort of woman \n",
    "(think The Electric Horseman). It's ugly stuff because the values, the ideals, of the screenplay are all so harmful.<br /><br />\n",
    "I share the other objections about the odd things in the writing: a) why would this man lose every girlfriend he has -- because he refuses to reveal\n",
    "that his mother's death and funeral caused him to be unable to keep dates with them? It's a mystery why he just keeps saying\n",
    "\"it was personal\" when faced with angry and disappointed women. HUH? <br /><br />b) there's an enormous inconsistency (i.e., \n",
    "the screenwriter wants to have it both ways) by telling us that the protagonist's mother loved the father with everything she had - \n",
    "and then later we're told that there was only one great love in her life - her lesbian girlfriend.<br /><br />c) the underlying legal assumptions \n",
    "are nonsense. We're never told that the executor has any right to live at the property - merely that she shall determine the \n",
    "timing of the sole heir's title and right to occupy the property. Yet somehow the film makes it appear that the executor is the rightful occupant - \n",
    "which is crazy. (Try to think of any executor of any will who uses the decedent's property before the will's bequests are fulfilled - it doesn't happen).\n",
    "<br /><br />d) the assumption throughout this film is that women are equally drawn to men and women - it's just absurd. Thus, we're told: i) that \n",
    "Penelope Ann Miller's character is dating other men near the end of the film - after having been with the decedent for five years - and before \n",
    "that in a fulfilling relationship with the protagonist, ii) that the protagonist's housekeeper after being devoted throughout her adult life \n",
    "to her kind husband - is now dating another woman iii) that one girlfriend upset with the protagonist would now therefore \"like to try \n",
    "a woman\".<br /><br />iv) that a male transsexual is eager to date the protagonist v) that Mary Kay Place's character naturally looked \n",
    "at other women in college (\"and they looked back\" she says with an idiotic triumphal flip of the head).<br /><br />\n",
    "This is all just ridiculous.<br /><br />I agree with others about the sound of the DVD (I had to keep it at maximum volume and \n",
    "repeatedly rewind to understand names, phrases).<br /><br />This is a film by someone who really despises traditional heroics by any man,\n",
    "hates the notion that a man is needed to raise a child, loathes the idea that there is any necessary connection between marriage and sex. \n",
    "The film is out to preach - and that kind of propaganda of false messages doesn't sit well.\"\"\")"
   ]
  },
  {
   "cell_type": "code",
   "execution_count": null,
   "id": "effc6e03-0d47-4b81-80c4-76179c208491",
   "metadata": {},
   "outputs": [],
   "source": []
  }
 ],
 "metadata": {
  "kernelspec": {
   "display_name": "Python 3 (ipykernel)",
   "language": "python",
   "name": "python3"
  },
  "language_info": {
   "codemirror_mode": {
    "name": "ipython",
    "version": 3
   },
   "file_extension": ".py",
   "mimetype": "text/x-python",
   "name": "python",
   "nbconvert_exporter": "python",
   "pygments_lexer": "ipython3",
   "version": "3.10.13"
  }
 },
 "nbformat": 4,
 "nbformat_minor": 5
}
